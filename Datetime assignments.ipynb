{
 "cells": [
  {
   "cell_type": "markdown",
   "id": "0262f0cc",
   "metadata": {},
   "source": [
    "# 1) Write a Python program to get the current time in Python. \n",
    "Sample Format :  13:19:49.078205\n"
   ]
  },
  {
   "cell_type": "code",
   "execution_count": 1,
   "id": "25793e3c",
   "metadata": {},
   "outputs": [
    {
     "name": "stdout",
     "output_type": "stream",
     "text": [
      "14:31:23.005431\n"
     ]
    }
   ],
   "source": [
    "import datetime\n",
    "print(datetime.datetime.now().time())"
   ]
  },
  {
   "cell_type": "markdown",
   "id": "37d63fbe",
   "metadata": {},
   "source": [
    "# 2) Write a Python program to subtract five days from current date. \n",
    "Sample Date :\n",
    "Current Date : 2015-06-22\n",
    "5 days before Current Date : 2015-06-17\n"
   ]
  },
  {
   "cell_type": "code",
   "execution_count": 2,
   "id": "01f03f36",
   "metadata": {},
   "outputs": [
    {
     "name": "stdout",
     "output_type": "stream",
     "text": [
      "Current Date : 2022-06-22\n",
      "5 days before Current Date : 2022-06-17\n"
     ]
    }
   ],
   "source": [
    "from datetime import date, timedelta\n",
    "dt = date.today() - timedelta(5)\n",
    "print('Current Date :',date.today())\n",
    "print('5 days before Current Date :',dt)"
   ]
  },
  {
   "cell_type": "markdown",
   "id": "c2283a62",
   "metadata": {},
   "source": [
    "# 3) Write a Python script to display the various Date Time formats.\n",
    "a) Current date and time\n",
    "b) Current year\n",
    "c) Month of year\n",
    "d) Week number of the year\n",
    "e) Weekday of the week\n",
    "f) Day of year\n",
    "g) Day of the month\n",
    "h) Day of week\n"
   ]
  },
  {
   "cell_type": "code",
   "execution_count": 3,
   "id": "78b3ac36",
   "metadata": {},
   "outputs": [
    {
     "name": "stdout",
     "output_type": "stream",
     "text": [
      "Current date and time:  2022-06-22 14:33:13.356828\n",
      "Current year:  2022\n",
      "Month of year:  June\n",
      "Week number of the year:  25\n",
      "Weekday of the week:  3\n",
      "Day of year:  173\n",
      "Day of the month :  22\n",
      "Day of week:  Wednesday\n"
     ]
    }
   ],
   "source": [
    "import time\n",
    "import datetime\n",
    "print(\"Current date and time: \" , datetime.datetime.now())\n",
    "print(\"Current year: \", datetime.date.today().strftime(\"%Y\"))\n",
    "print(\"Month of year: \", datetime.date.today().strftime(\"%B\"))\n",
    "print(\"Week number of the year: \", datetime.date.today().strftime(\"%W\"))\n",
    "print(\"Weekday of the week: \", datetime.date.today().strftime(\"%w\"))\n",
    "print(\"Day of year: \", datetime.date.today().strftime(\"%j\"))\n",
    "print(\"Day of the month : \", datetime.date.today().strftime(\"%d\"))\n",
    "print(\"Day of week: \", datetime.date.today().strftime(\"%A\"))"
   ]
  },
  {
   "cell_type": "markdown",
   "id": "ec35d191",
   "metadata": {},
   "source": [
    "# 4) Write a Python program to convert a string to datetime. \n",
    "\n",
    "Sample String : Jan 1 2014 2:43PM\n",
    "Expected Output : 2014-07-01 14:43:00\n"
   ]
  },
  {
   "cell_type": "code",
   "execution_count": 4,
   "id": "03e8c4ea",
   "metadata": {},
   "outputs": [
    {
     "name": "stdout",
     "output_type": "stream",
     "text": [
      "2014-07-01 14:43:00\n"
     ]
    }
   ],
   "source": [
    "from datetime import datetime\n",
    "date_object = datetime.strptime('Jul 1 2014 2:43PM', '%b %d %Y %I:%M%p')\n",
    "print(date_object)"
   ]
  },
  {
   "cell_type": "markdown",
   "id": "d5fe4abd",
   "metadata": {},
   "source": [
    "# 5) Write a Python program to print yesterday, today, tomorrow."
   ]
  },
  {
   "cell_type": "code",
   "execution_count": 5,
   "id": "f3a3ab29",
   "metadata": {},
   "outputs": [
    {
     "name": "stdout",
     "output_type": "stream",
     "text": [
      "Yesterday :  2022-06-21\n",
      "Today :  2022-06-22\n",
      "Tomorrow :  2022-06-23\n"
     ]
    }
   ],
   "source": [
    "import datetime \n",
    "today = datetime.date.today()\n",
    "yesterday = today - datetime.timedelta(days = 1)\n",
    "tomorrow = today + datetime.timedelta(days = 1) \n",
    "print('Yesterday : ',yesterday)\n",
    "print('Today : ',today)\n",
    "print('Tomorrow : ',tomorrow)"
   ]
  },
  {
   "cell_type": "markdown",
   "id": "b2ddce7f",
   "metadata": {},
   "source": [
    "# 6) Write a Python program to add 5 seconds with the current time"
   ]
  },
  {
   "cell_type": "code",
   "execution_count": 6,
   "id": "48fb85d2",
   "metadata": {},
   "outputs": [
    {
     "name": "stdout",
     "output_type": "stream",
     "text": [
      "14:36:26.371248\n",
      "14:36:31.371248\n"
     ]
    }
   ],
   "source": [
    "import datetime\n",
    "x= datetime.datetime.now()\n",
    "y = x + datetime.timedelta(0,5)\n",
    "print(x.time())\n",
    "print(y.time())"
   ]
  },
  {
   "cell_type": "markdown",
   "id": "a8d94054",
   "metadata": {},
   "source": [
    "# 7)  Write a Python program to get week number. \n",
    "Sample Date : 2015, 6, 16\n"
   ]
  },
  {
   "cell_type": "code",
   "execution_count": 7,
   "id": "adb9c497",
   "metadata": {},
   "outputs": [
    {
     "name": "stdout",
     "output_type": "stream",
     "text": [
      "25\n"
     ]
    }
   ],
   "source": [
    "import datetime\n",
    "print(datetime.date(2015, 6, 16).isocalendar()[1])\n"
   ]
  },
  {
   "cell_type": "markdown",
   "id": "b9ab9503",
   "metadata": {},
   "source": [
    "# 8) Write a Python program to drop microseconds from datetime"
   ]
  },
  {
   "cell_type": "code",
   "execution_count": 8,
   "id": "cb1eb99d",
   "metadata": {},
   "outputs": [
    {
     "name": "stdout",
     "output_type": "stream",
     "text": [
      "\n",
      "2022-06-22 14:37:12\n",
      "\n"
     ]
    }
   ],
   "source": [
    "import datetime\n",
    "dt = datetime.datetime.today().replace(microsecond=0)\n",
    "print()\n",
    "print(dt)\n",
    "print()"
   ]
  },
  {
   "cell_type": "markdown",
   "id": "ce722631",
   "metadata": {},
   "source": [
    "# 9) Write a Python program to get days between two dates. \n",
    "Sample Dates : 2000,2,28, 2001,2,28\n"
   ]
  },
  {
   "cell_type": "code",
   "execution_count": 9,
   "id": "b411560f",
   "metadata": {},
   "outputs": [
    {
     "name": "stdout",
     "output_type": "stream",
     "text": [
      "366 days, 0:00:00\n"
     ]
    }
   ],
   "source": [
    "from datetime import date\n",
    "a = date(2000,2,28)\n",
    "b = date(2001,2,28)\n",
    "print(b-a)"
   ]
  },
  {
   "cell_type": "markdown",
   "id": "a7152811",
   "metadata": {},
   "source": [
    "# 10)Write a Python program to get the number of days of a given month and year."
   ]
  },
  {
   "cell_type": "code",
   "execution_count": 10,
   "id": "a0c4e96c",
   "metadata": {},
   "outputs": [
    {
     "name": "stdout",
     "output_type": "stream",
     "text": [
      "(0, 29)\n"
     ]
    }
   ],
   "source": [
    "from calendar import monthrange\n",
    "year = 2016\n",
    "month = 2\n",
    "print(monthrange(year, month))"
   ]
  }
 ],
 "metadata": {
  "kernelspec": {
   "display_name": "Python 3 (ipykernel)",
   "language": "python",
   "name": "python3"
  },
  "language_info": {
   "codemirror_mode": {
    "name": "ipython",
    "version": 3
   },
   "file_extension": ".py",
   "mimetype": "text/x-python",
   "name": "python",
   "nbconvert_exporter": "python",
   "pygments_lexer": "ipython3",
   "version": "3.9.7"
  }
 },
 "nbformat": 4,
 "nbformat_minor": 5
}
