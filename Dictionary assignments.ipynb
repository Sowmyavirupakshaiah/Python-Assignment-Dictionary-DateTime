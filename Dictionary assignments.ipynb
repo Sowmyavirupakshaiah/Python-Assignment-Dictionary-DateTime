{
 "cells": [
  {
   "cell_type": "markdown",
   "id": "9600ffe0",
   "metadata": {},
   "source": [
    "# 1) Write a Python script to sort (ascending and descending) a dictionary by value."
   ]
  },
  {
   "cell_type": "code",
   "execution_count": 1,
   "id": "04dbd076",
   "metadata": {},
   "outputs": [
    {
     "name": "stdout",
     "output_type": "stream",
     "text": [
      "Original dictionary :  {1: 2, 3: 4, 4: 3, 2: 1, 0: 0}\n",
      "Dictionary in ascending order by value :  [(0, 0), (2, 1), (1, 2), (4, 3), (3, 4)]\n",
      "Dictionary in descending order by value :  {3: 4, 4: 3, 1: 2, 2: 1, 0: 0}\n"
     ]
    }
   ],
   "source": [
    "import operator\n",
    "d = {1: 2, 3: 4, 4: 3, 2: 1, 0: 0}\n",
    "print('Original dictionary : ',d)\n",
    "sorted_d = sorted(d.items(), key=operator.itemgetter(1))\n",
    "print('Dictionary in ascending order by value : ',sorted_d)\n",
    "sorted_d = dict( sorted(d.items(), key=operator.itemgetter(1),reverse=True))\n",
    "print('Dictionary in descending order by value : ',sorted_d)"
   ]
  },
  {
   "cell_type": "markdown",
   "id": "6a511df5",
   "metadata": {},
   "source": [
    "# 2) Write a Python script to add a key to a dictionary. Go to the editor\n",
    "Sample Dictionary : {0: 10, 1: 20}\n"
   ]
  },
  {
   "cell_type": "code",
   "execution_count": 3,
   "id": "eaa87f99",
   "metadata": {},
   "outputs": [
    {
     "name": "stdout",
     "output_type": "stream",
     "text": [
      "{0: 10, 1: 20, 2: 30}\n"
     ]
    }
   ],
   "source": [
    "d = {0:10, 1:20}\n",
    "d.update({2:30})\n",
    "print(d)"
   ]
  },
  {
   "cell_type": "markdown",
   "id": "3ad311e7",
   "metadata": {},
   "source": [
    "# 3) Write a Python script to merge two Python dictionaries"
   ]
  },
  {
   "cell_type": "code",
   "execution_count": 4,
   "id": "33ae4c31",
   "metadata": {},
   "outputs": [
    {
     "name": "stdout",
     "output_type": "stream",
     "text": [
      "{'a': 100, 'b': 200, 'x': 300, 'y': 200}\n"
     ]
    }
   ],
   "source": [
    "d1 = {'a': 100, 'b': 200}\n",
    "d2 = {'x': 300, 'y': 200}\n",
    "d = d1.copy()\n",
    "d.update(d2)\n",
    "print(d)"
   ]
  },
  {
   "cell_type": "markdown",
   "id": "5212c9fe",
   "metadata": {},
   "source": [
    "# 4) Write a Python program to sum all the items in a dictionary."
   ]
  },
  {
   "cell_type": "code",
   "execution_count": 5,
   "id": "d8e7e2e9",
   "metadata": {},
   "outputs": [
    {
     "name": "stdout",
     "output_type": "stream",
     "text": [
      "293\n"
     ]
    }
   ],
   "source": [
    "my_dict = {'data1':100,'data2':-54,'data3':247}\n",
    "print(sum(my_dict.values()))"
   ]
  },
  {
   "cell_type": "markdown",
   "id": "9e4ad7a6",
   "metadata": {},
   "source": [
    "# 5) Write a Python program to combine two dictionary adding values for common keys. \n",
    "d1 = {'a': 100, 'b': 200, 'c':300}                                                                                             \n",
    "d2 = {'a': 300, 'b': 200, 'd':400}                                                                                              \n"
   ]
  },
  {
   "cell_type": "code",
   "execution_count": 6,
   "id": "913f7a22",
   "metadata": {},
   "outputs": [
    {
     "name": "stdout",
     "output_type": "stream",
     "text": [
      "Counter({'a': 400, 'b': 400, 'd': 400, 'c': 300})\n"
     ]
    }
   ],
   "source": [
    "from collections import Counter\n",
    "d1 = {'a': 100, 'b': 200, 'c':300}\n",
    "d2 = {'a': 300, 'b': 200, 'd':400}\n",
    "d = Counter(d1) + Counter(d2)\n",
    "print(d)"
   ]
  },
  {
   "cell_type": "markdown",
   "id": "5a83d9c0",
   "metadata": {},
   "source": [
    "# 6) Select the all correct way to remove the key ‘marks‘ from a dictionary\n",
    "   student = {                                                                                                                 \n",
    "\"name\": \"Emma\",                                                                                                             \n",
    "\"class\": 9,                                                                                                                     \n",
    "\"marks\": 75}                                                                                                                                                                                           \n",
    "a)\tstudent.pop(“marks”)                                                                                                       \n",
    "b)\t  del student[“marks”]                                                                                                     \n",
    "c)\t  student.popitem()                                                                                                         \n",
    "d)\t  dict1.remove(“key2”)                                                                                                     "
   ]
  },
  {
   "cell_type": "code",
   "execution_count": 9,
   "id": "fef430a5",
   "metadata": {},
   "outputs": [],
   "source": [
    "student = {\n",
    "\"name\":\"Emma\",\n",
    "\"class\": 9,\n",
    "\"marks\": 75\n",
    "}"
   ]
  },
  {
   "cell_type": "code",
   "execution_count": 12,
   "id": "213b203a",
   "metadata": {},
   "outputs": [
    {
     "data": {
      "text/plain": [
       "75"
      ]
     },
     "execution_count": 12,
     "metadata": {},
     "output_type": "execute_result"
    }
   ],
   "source": [
    "student.pop(\"marks\")"
   ]
  },
  {
   "cell_type": "code",
   "execution_count": 23,
   "id": "e7ba5d96",
   "metadata": {},
   "outputs": [],
   "source": [
    "student = {\n",
    "\"name\":\"Emma\",\n",
    "\"class\": 9,\n",
    "\"marks\": 75\n",
    "}\n",
    "del student [\"marks\"]"
   ]
  },
  {
   "cell_type": "markdown",
   "id": "89661542",
   "metadata": {},
   "source": [
    "Ans:a)student.pop(\"marks\")                                                                                                      b) del student[\"marks\"]                                                                                                          "
   ]
  },
  {
   "cell_type": "markdown",
   "id": "cb694e53",
   "metadata": {},
   "source": [
    "# 7) Write a Python program to count number of items in a dictionary value that is a list."
   ]
  },
  {
   "cell_type": "code",
   "execution_count": 24,
   "id": "efd2c3ca",
   "metadata": {},
   "outputs": [
    {
     "name": "stdout",
     "output_type": "stream",
     "text": [
      "5\n"
     ]
    }
   ],
   "source": [
    "dict =  {'Alex': ['subj1', 'subj2', 'subj3'], 'David': ['subj1', 'subj2']}\n",
    "ctr = sum(map(len, dict.values()))\n",
    "print(ctr)"
   ]
  }
 ],
 "metadata": {
  "kernelspec": {
   "display_name": "Python 3 (ipykernel)",
   "language": "python",
   "name": "python3"
  },
  "language_info": {
   "codemirror_mode": {
    "name": "ipython",
    "version": 3
   },
   "file_extension": ".py",
   "mimetype": "text/x-python",
   "name": "python",
   "nbconvert_exporter": "python",
   "pygments_lexer": "ipython3",
   "version": "3.9.7"
  }
 },
 "nbformat": 4,
 "nbformat_minor": 5
}
